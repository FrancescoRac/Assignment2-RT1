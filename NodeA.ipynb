{
 "cells": [
  {
   "cell_type": "code",
   "execution_count": 1,
   "id": "89c74185",
   "metadata": {},
   "outputs": [],
   "source": [
    "import rospy\n",
    "import actionlib\n",
    "import actionlib.msg\n",
    "import assignment_2_2023.msg\n",
    "import ipywidgets as widgets\n",
    "import numpy as np\n",
    "import matplotlib.pyplot as plt\n",
    "import jupyros as jr\n",
    "import tf\n",
    "\n",
    "from assignment_2_2023.msg import PlanningAction, PlanningGoal, PlanningResult, PlanningFeedback, PlanningActionFeedback\n",
    "from std_srvs.srv import *\n",
    "from nav_msgs.msg import Odometry\n",
    "from actionlib import GoalStatusArray, GoalStatus, GoalID\n",
    "from geometry_msgs.msg import Point, Pose, Twist\n",
    "from assignment_2_2023.msg import Pos_Vel\n",
    "from ipywidgets import Button, Layout\n",
    "from IPython.display import display\n",
    "from ipywidgets import widgets, Button, IntSlider, HTML, VBox\n",
    "from tf.transformations import quaternion_matrix\n",
    "from matplotlib.animation import FuncAnimation\n",
    "\n",
    "%matplotlib widget"
   ]
  },
  {
   "cell_type": "code",
   "execution_count": 2,
   "id": "717b0c82",
   "metadata": {},
   "outputs": [
    {
     "data": {
      "text/plain": [
       "\"class Visualiser:\\n    def __init__(self):\\n        self.fig, self.ax = plt.subplots()\\n        self.ln, = plt.plot([], [], 'ro')\\n        self.xdata, self.ydata = [] , []\\n\\n    def plot_init(self):\\n        self.ax.set_xlim(-10, 10)\\n        self.ax.set_ylim(-10, 10)\\n        return self.ln,\\n        \\n    def odom_callback(self, msg):\\n        self.ydata.append(msg.pose.pose.position.y)\\n        self.xdata.append(msg.pose.pose.position.x)\\n        \\n    def update_plot(self, frame):\\n        self.ln.set_data(self.xdata, self.ydata)\\n        return self.ln,\\n\""
      ]
     },
     "execution_count": 2,
     "metadata": {},
     "output_type": "execute_result"
    }
   ],
   "source": [
    "\"\"\"class Visualiser:\n",
    "    def __init__(self):\n",
    "        self.fig, self.ax = plt.subplots()\n",
    "        self.ln, = plt.plot([], [], 'ro')\n",
    "        self.xdata, self.ydata = [] , []\n",
    "\n",
    "    def plot_init(self):\n",
    "        self.ax.set_xlim(-10, 10)\n",
    "        self.ax.set_ylim(-10, 10)\n",
    "        return self.ln,\n",
    "        \n",
    "    def odom_callback(self, msg):\n",
    "        self.ydata.append(msg.pose.pose.position.y)\n",
    "        self.xdata.append(msg.pose.pose.position.x)\n",
    "        \n",
    "    def update_plot(self, frame):\n",
    "        self.ln.set_data(self.xdata, self.ydata)\n",
    "        return self.ln,\n",
    "\"\"\""
   ]
  },
  {
   "cell_type": "code",
   "execution_count": 3,
   "id": "2f7cdd42",
   "metadata": {},
   "outputs": [],
   "source": [
    "class Visualiser:\n",
    "    def __init__(self):\n",
    "        out = widgets.Output()\n",
    "        plt.ioff()\n",
    "        self.fig, (self.ax1, self.ax2) = plt.subplots(1,2,figsize=(7,3),constrained_layout=True)\n",
    "        self.fig.canvas.toolbar_position = 'bottom'\n",
    "        plt.ion()\n",
    "        with out:\n",
    "            display(self.fig.canvas)\n",
    "        # Bar graph and button class\n",
    "        self.bar_data = [0,0]\n",
    "        self.bar_labels = ['Cancel','Reached']\n",
    "        self.bars = self.ax2.bar(self.bar_labels, self.bar_data)\n",
    "        # Title of the subplot\n",
    "        self.ax1.set_title('Robot Position')\n",
    "        self.ax2.set_title('Bar Graph')\n",
    "        plt.ioff()\n",
    "        self.ln, = self.ax1.plot([], [], 'ro')\n",
    "        self.xdata, self.ydata = [] , []\n",
    "        plt.ion()\n",
    "        \n",
    "        #display(out)\n",
    "        \n",
    "    def plot_init(self):\n",
    "        self.ax1.set_xlim(-10, 10)\n",
    "        self.ax1.set_ylim(-10, 10)\n",
    "        self.ax2.set_xlim()\n",
    "        self.ax2.set_ylim(0,5)\n",
    "        return self.ln, self.bars\n",
    "    def odom_callback(self, msg):\n",
    "        self.ydata.append(msg.pose.pose.position.y)\n",
    "        self.xdata.append(msg.pose.pose.position.x)\n",
    "        cancelled = len(del_x_target)\n",
    "        reached = len(x_reached)\n",
    "        y = [cancelled,reached]\n",
    "        self.update_bar(y)\n",
    " \n",
    "    def update_plot(self, frame):\n",
    "        self.ln.set_data(self.xdata, self.ydata)\n",
    "        self.bars[0].set_height(self.bar_data[0])\n",
    "        self.bars[1].set_height(self.bar_data[1])\n",
    "        return self.ln, self.bars\n",
    "    def update_bar(self, y):\n",
    "        self.bar_data = y"
   ]
  },
  {
   "cell_type": "code",
   "execution_count": 4,
   "id": "5289c20c",
   "metadata": {},
   "outputs": [],
   "source": [
    "# Global variables\n",
    "\n",
    "global publisher\n",
    "publisher = None\n",
    "global client\n",
    "client = None\n",
    "\n",
    "global x_data\n",
    "x_data = []\n",
    "y_data = []\n",
    "\n",
    "x_reached = []\n",
    "y_reached = []\n",
    "\n",
    "del_x_target = []\n",
    "del_y_target = []\n",
    "\n",
    "\n",
    "def client_request(button, x_in, y_in):\n",
    "\n",
    "    global client\n",
    "    global x\n",
    "    global y\n",
    "    # Create a SimpleActionClient\n",
    "    client = actionlib.SimpleActionClient('/reaching_goal', assignment_2_2023.msg.PlanningAction)\n",
    "    client.wait_for_server()\n",
    "    \n",
    "    \n",
    "    x = x_in.value\n",
    "            \n",
    "    y = y_in.value\n",
    "    \n",
    "    x_data.append(x)\n",
    "    y_data.append(y)\n",
    "    \n",
    "    target = assignment_2_2023.msg.PlanningGoal()\n",
    "            \n",
    "    target.target_pose.pose.position.x = x\n",
    "      \n",
    "    target.target_pose.pose.position.y = y\n",
    "            \n",
    "    # Send the new goal\n",
    "    client.send_goal(target)   \n",
    "        \n",
    "def status_callback(msg):\n",
    "\n",
    "    position = msg.feedback.stat\n",
    "    \n",
    "    if position == \"Target reached!\":\n",
    "        print(\"reached!\") \n",
    "        x_reached.append(x)\n",
    "        y_reached.append(y)\n",
    "        \n",
    "        \n",
    "def send_goal(button, x_input, y_input):\n",
    "    global publisher  # Use the global publisher variable\n",
    "    client_request(button, x_input, y_input)\n",
    "    #publisher.publish(...)  # Publish the message here\n",
    "\n",
    "def cancel_goal(button):\n",
    "    \n",
    "    global client\n",
    "    global x_data\n",
    "    if (len(x_data) == 0):\n",
    "        print(\"No target to delete\")\n",
    "    else:\n",
    "        x = rospy.get_param('/des_pos_x')\n",
    "        y = rospy.get_param('/des_pos_y')\n",
    "        if ( x != x_reached[-1]  and y != y_reached[-1]):\n",
    "            client.cancel_goal()\n",
    "            del_x_target.append(x)\n",
    "            del_y_target.append(y)\n",
    "            print(\"Goal has been cancelled!\")\n",
    "        \n",
    "    \n",
    "    \n",
    "    \n",
    "    \n",
    "    \n",
    "    \n",
    "\n",
    "def callback(msg):\n",
    "    \n",
    "    global publisher\n",
    "    \n",
    "    # Extract position, linear velocity and angular velocity from the message\n",
    "    pos = msg.pose.pose.position\n",
    "    vel = msg.twist.twist.linear\n",
    "    ang = msg.twist.twist.angular\n",
    "    \n",
    "    # Create a new Pos_Vel message\n",
    "    posvel = Pos_Vel()\n",
    "    \n",
    "    # Give the value related to position and velocity to the message\n",
    "    '''\n",
    "    Uncomment the following lines if you want the position of the robot in feet\n",
    "    '''\n",
    "    #posvel.x = pos.x*3.28\n",
    "    #posvel.y = pos.y*3.28\n",
    "    \n",
    "    '''\n",
    "    Position in meters\n",
    "    Velocity in m/s\n",
    "    '''\n",
    "    posvel.x = pos.x\n",
    "    posvel.y = pos.y\n",
    "    #posvel.z = pos.z    Uncomment this row if you want also the z coordinate and add in the Pos_Vel.msg what is written in the brackets (float64 z)\n",
    "    posvel.vel_x = vel.x\n",
    "    posvel.vel_z = ang.z\n",
    "    \n",
    "    \n",
    "    # Publish the message\n",
    "    publisher.publish(posvel)\n",
    "    \n",
    "\"\"\"    \n",
    "def odom_callback(msg):\n",
    "    x_data.append(msg.pose.pose.position.x)\n",
    "    y_data.append(msg.pose.pose.position.y)\n",
    "\"\"\"\n",
    "\n",
    "def graph(button):\n",
    "    np_x_plot = np.array(x_data)\n",
    "    np_y_plot = np.array(y_data)\n",
    "    \n",
    "    fig_trajectory = plt.plot(np_x_plot, np_y_plot)\n",
    "    plt.xlabel(\"x axis\")\n",
    "    plt.ylabel(\"y axis\")\n",
    "    plt.title(\"Robot position\")\n",
    "\n",
    "    plt.show()\n",
    "    \n",
    "def last_t_callback(button):        \n",
    "    if (len(x_reached) == 0):\n",
    "        print(\"No target available\")\n",
    "    else:\n",
    "        print(\"Last Targets: \")\n",
    "        for i in range(len(x_reached)):\n",
    "            print(\"x: \", str(x_reached[i]), \"y: \", str(y_reached[i]))\n",
    "    \n",
    "def deleted_goal(button):\n",
    "    if (len(del_x_target) == 0):\n",
    "        print(\"No target deleted yet\")\n",
    "    else:\n",
    "        print(\"Deleted target: \", str(del_x_target[-1]), str(del_y_target[-1]))\n"
   ]
  },
  {
   "cell_type": "code",
   "execution_count": 5,
   "id": "97454125",
   "metadata": {},
   "outputs": [],
   "source": [
    "out = widgets.Output()\n",
    "with out:\n",
    "    vis = Visualiser()\n",
    "    sub = rospy.Subscriber('/odom', Odometry, vis.odom_callback)\n",
    "    ani = FuncAnimation(vis.fig, vis.update_plot, init_func=vis.plot_init, blit = True)\n",
    "    plt.show(block=True)"
   ]
  },
  {
   "cell_type": "code",
   "execution_count": 6,
   "id": "e8d2fb53",
   "metadata": {},
   "outputs": [
    {
     "data": {
      "application/vnd.jupyter.widget-view+json": {
       "model_id": "6db292b6fb184df395c20a2130092204",
       "version_major": 2,
       "version_minor": 0
      },
      "text/plain": [
       "IntSlider(value=0, description='x ', max=9, min=-9)"
      ]
     },
     "metadata": {},
     "output_type": "display_data"
    },
    {
     "data": {
      "application/vnd.jupyter.widget-view+json": {
       "model_id": "9d3e09a3ed744b42a7f7f6638d913f9b",
       "version_major": 2,
       "version_minor": 0
      },
      "text/plain": [
       "IntSlider(value=0, description='y ', max=9, min=-9)"
      ]
     },
     "metadata": {},
     "output_type": "display_data"
    },
    {
     "data": {
      "application/vnd.jupyter.widget-view+json": {
       "model_id": "24b776961610484d8c5f95f3e55a0732",
       "version_major": 2,
       "version_minor": 0
      },
      "text/plain": [
       "Button(button_style='success', description='Send Goal', icon='play', style=ButtonStyle())"
      ]
     },
     "metadata": {},
     "output_type": "display_data"
    },
    {
     "data": {
      "application/vnd.jupyter.widget-view+json": {
       "model_id": "d32d27c90b9943f8bbc63396e9da595d",
       "version_major": 2,
       "version_minor": 0
      },
      "text/plain": [
       "Button(button_style='danger', description='Cancel Goal', icon='times', style=ButtonStyle())"
      ]
     },
     "metadata": {},
     "output_type": "display_data"
    },
    {
     "data": {
      "application/vnd.jupyter.widget-view+json": {
       "model_id": "7c076b7e1d41482ea237847aca28e2fb",
       "version_major": 2,
       "version_minor": 0
      },
      "text/plain": [
       "Button(button_style='info', description='Show graph', style=ButtonStyle())"
      ]
     },
     "metadata": {},
     "output_type": "display_data"
    },
    {
     "data": {
      "application/vnd.jupyter.widget-view+json": {
       "model_id": "743c4f28fe324bba90587f385431d85f",
       "version_major": 2,
       "version_minor": 0
      },
      "text/plain": [
       "Output()"
      ]
     },
     "metadata": {},
     "output_type": "display_data"
    },
    {
     "data": {
      "application/vnd.jupyter.widget-view+json": {
       "model_id": "81ac9fd2fadc49fc85b50ffe14e56f7a",
       "version_major": 2,
       "version_minor": 0
      },
      "text/plain": [
       "Button(button_style='info', description='Show last target', style=ButtonStyle())"
      ]
     },
     "metadata": {},
     "output_type": "display_data"
    },
    {
     "data": {
      "application/vnd.jupyter.widget-view+json": {
       "model_id": "ac9e83a1a32a420ebc98b38488b57b14",
       "version_major": 2,
       "version_minor": 0
      },
      "text/plain": [
       "Output()"
      ]
     },
     "metadata": {},
     "output_type": "display_data"
    },
    {
     "data": {
      "application/vnd.jupyter.widget-view+json": {
       "model_id": "74a7be47525c4488a098beb31042cfc8",
       "version_major": 2,
       "version_minor": 0
      },
      "text/plain": [
       "Button(button_style='info', description='Show deleted target', style=ButtonStyle())"
      ]
     },
     "metadata": {},
     "output_type": "display_data"
    },
    {
     "data": {
      "application/vnd.jupyter.widget-view+json": {
       "model_id": "61d8640bbfe4422e917f50e8fe9af346",
       "version_major": 2,
       "version_minor": 0
      },
      "text/plain": [
       "Output()"
      ]
     },
     "metadata": {},
     "output_type": "display_data"
    },
    {
     "data": {
      "application/vnd.jupyter.widget-view+json": {
       "model_id": "baf5603283ce4a5aadd19b91269c49ef",
       "version_major": 2,
       "version_minor": 0
      },
      "text/plain": [
       "Output()"
      ]
     },
     "metadata": {},
     "output_type": "display_data"
    },
    {
     "name": "stdout",
     "output_type": "stream",
     "text": [
      "No target to delete\n",
      "No target deleted yet\n",
      "Last Targets: \n",
      "x:  2 y:  2\n",
      "Goal has been cancelled!\n"
     ]
    }
   ],
   "source": [
    "def main():\n",
    "    \n",
    "    global publisher, sub, sub2\n",
    "    # Initialize the node\n",
    "    rospy.init_node('nodeF')\n",
    "    \n",
    "    x_input = widgets.IntSlider(value=0, min=-9, max=9, description=\"x \")\n",
    "    y_input = widgets.IntSlider(value=0, min=-9, max=9, description=\"y \")    \n",
    "    display(x_input)\n",
    "    display(y_input)\n",
    "    \n",
    "    # Create a publisher\n",
    "    publisher = rospy.Publisher(\"/pos_vel\", Pos_Vel, queue_size=1)\n",
    "    \n",
    "    # Subscribe to the /odom topic\n",
    "    rospy.Subscriber(\"/odom\", Odometry, callback)\n",
    "    \n",
    "    rospy.Subscriber(\"/reaching_goal/feedback\",PlanningActionFeedback,status_callback)\n",
    "    \n",
    "    send = widgets.Button(value=False, \n",
    "                          description=\"Send Goal\", \n",
    "                          disabled=False, \n",
    "                          button_style='success',\n",
    "                          icon='play')\n",
    "    send.on_click(lambda b: send_goal(b, x_input, y_input))\n",
    "        \n",
    "    delete_button = widgets.Button(value=False, \n",
    "                                   description=\"Cancel Goal\",\n",
    "                                   disabled=False,\n",
    "                                   button_style='danger',\n",
    "                                   icon='times')\n",
    "    \n",
    "    delete_button.on_click(lambda b: cancel_goal(b))\n",
    "    \n",
    "    \n",
    "    display(send)\n",
    "    display(delete_button)\n",
    "    \n",
    "    \"\"\"\n",
    "    Button to see the graph related to the position of the robot\n",
    "    \"\"\"\n",
    "    button = widgets.Button(description = \"Show graph\", \n",
    "                            disabled=False,\n",
    "                            button_style='info')\n",
    "    output = widgets.Output()\n",
    "    display(button, output)\n",
    "    \n",
    "    button.on_click(graph)\n",
    "    \n",
    "    \"\"\"\n",
    "    Button to see the reached target\n",
    "    \"\"\"\n",
    "    last_t = widgets.Button(description = \"Show last target\", \n",
    "                            disabled=False,\n",
    "                            button_style='info')\n",
    "    last_t_output = widgets.Output()\n",
    "    \n",
    "    display(last_t,last_t_output)\n",
    "    \n",
    "    last_t.on_click(last_t_callback)\n",
    "    \n",
    "    \n",
    "    \"\"\"\n",
    "    Button to see the deleted target\n",
    "    \"\"\"\n",
    "    deleted_target = widgets.Button(description = \"Show deleted target\",\n",
    "                                    disabled=False,\n",
    "                                    button_style='info')\n",
    "    \n",
    "    deleted_target_output = widgets.Output()\n",
    "    display(deleted_target, deleted_target_output)\n",
    "    \n",
    "    deleted_target.on_click(deleted_goal)\n",
    "    \n",
    "    display(out)\n",
    "    \n",
    "# Entry point\n",
    "if __name__ == '__main__':\n",
    "    main()\n"
   ]
  },
  {
   "cell_type": "code",
   "execution_count": 7,
   "id": "588118b9",
   "metadata": {},
   "outputs": [
    {
     "name": "stdout",
     "output_type": "stream",
     "text": [
      "[]\n"
     ]
    }
   ],
   "source": [
    "  print(x_data)"
   ]
  },
  {
   "cell_type": "code",
   "execution_count": null,
   "id": "76ab7d83",
   "metadata": {},
   "outputs": [],
   "source": []
  }
 ],
 "metadata": {
  "kernelspec": {
   "display_name": "Python 3 (ipykernel)",
   "language": "python",
   "name": "python3"
  },
  "language_info": {
   "codemirror_mode": {
    "name": "ipython",
    "version": 3
   },
   "file_extension": ".py",
   "mimetype": "text/x-python",
   "name": "python",
   "nbconvert_exporter": "python",
   "pygments_lexer": "ipython3",
   "version": "3.8.5"
  }
 },
 "nbformat": 4,
 "nbformat_minor": 5
}
